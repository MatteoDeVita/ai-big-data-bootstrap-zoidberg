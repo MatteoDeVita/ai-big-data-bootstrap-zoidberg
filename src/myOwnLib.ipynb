{
 "cells": [
  {
   "cell_type": "code",
   "execution_count": 14,
   "id": "e97bbb86-1e9e-4f4e-ae5d-66433fed9b92",
   "metadata": {},
   "outputs": [],
   "source": [
    "from pickletools import uint8\n",
    "from turtle import color\n",
    "import numpy as np\n",
    "import matplotlib.pyplot as plt\n",
    "from MNISTManager import MNISTManager\n",
    "import os\n",
    "import sys"
   ]
  },
  {
   "cell_type": "markdown",
   "id": "4f8fad51",
   "metadata": {},
   "source": [
    "> _Import each matrices in a dictionnary like this :_\n",
    "* trainingImages : 60000 training 28*28 images\n",
    "* trainingLabels : 60000 labels for each training images\n",
    "* testingImages : 10000 testing 28*28 images\n",
    "* testingLabels : 10000 labels for each testing images"
   ]
  },
  {
   "cell_type": "code",
   "execution_count": 25,
   "id": "2ad2566c",
   "metadata": {},
   "outputs": [
    {
     "ename": "IsADirectoryError",
     "evalue": "[Errno 21] Is a directory: '../datasets'",
     "output_type": "error",
     "traceback": [
      "\u001b[0;31m---------------------------------------------------------------------------\u001b[0m",
      "\u001b[0;31mIsADirectoryError\u001b[0m                         Traceback (most recent call last)",
      "Cell \u001b[0;32mIn [25], line 1\u001b[0m\n\u001b[0;32m----> 1\u001b[0m matrices \u001b[39m=\u001b[39m MNISTManager(\n\u001b[1;32m      2\u001b[0m     os\u001b[39m.\u001b[39;49mpath\u001b[39m.\u001b[39;49mdirname(\u001b[39m\"\u001b[39;49m\u001b[39m../datasets/train-images-idx3-ubyte.gz\u001b[39;49m\u001b[39m\"\u001b[39;49m),\n\u001b[1;32m      3\u001b[0m     os\u001b[39m.\u001b[39;49mpath\u001b[39m.\u001b[39;49mdirname(\u001b[39m\"\u001b[39;49m\u001b[39m/../datasets/train-labels-idx1-ubyte.gz\u001b[39;49m\u001b[39m\"\u001b[39;49m),\n\u001b[1;32m      4\u001b[0m     os\u001b[39m.\u001b[39;49mpath\u001b[39m.\u001b[39;49mdirname(\u001b[39m\"\u001b[39;49m\u001b[39m/../datasets/t10k-images-idx3-ubyte.gz\u001b[39;49m\u001b[39m\"\u001b[39;49m),\n\u001b[1;32m      5\u001b[0m     os\u001b[39m.\u001b[39;49mpath\u001b[39m.\u001b[39;49mdirname(\u001b[39m\"\u001b[39;49m\u001b[39m/../datasets/t10k-labels-idx1-ubyte.gz\u001b[39;49m\u001b[39m\"\u001b[39;49m),\n\u001b[1;32m      6\u001b[0m )\u001b[39m.\u001b[39mgetMatrices()\n\u001b[1;32m      7\u001b[0m \u001b[39mprint\u001b[39m(matrices)\n",
      "File \u001b[0;32m~/Projects/Epitech/ai-big-data-bootstrap-zoidberg/src/MNISTManager.py:16\u001b[0m, in \u001b[0;36mMNISTManager.__init__\u001b[0;34m(self, trainingSetImagesPath, trainingSetLabelsPath, testingSetImagesPath, testingSetLabelsPath)\u001b[0m\n\u001b[1;32m      8\u001b[0m \u001b[39mdef\u001b[39;00m \u001b[39m__init__\u001b[39m(\n\u001b[1;32m      9\u001b[0m     \u001b[39mself\u001b[39m, \n\u001b[1;32m     10\u001b[0m     trainingSetImagesPath,\n\u001b[0;32m   (...)\u001b[0m\n\u001b[1;32m     14\u001b[0m ):\n\u001b[1;32m     15\u001b[0m     \u001b[39m#60000 training data and 10000 testing data\u001b[39;00m\n\u001b[0;32m---> 16\u001b[0m     \u001b[39mself\u001b[39m\u001b[39m.\u001b[39mtrainingImages \u001b[39m=\u001b[39m \u001b[39mself\u001b[39;49m\u001b[39m.\u001b[39;49m_getImageData(trainingSetImagesPath, \u001b[39m60000\u001b[39;49m)\n\u001b[1;32m     17\u001b[0m     \u001b[39mself\u001b[39m\u001b[39m.\u001b[39mtrainingLabels \u001b[39m=\u001b[39m \u001b[39mself\u001b[39m\u001b[39m.\u001b[39m_getLabelData(trainingSetLabelsPath, \u001b[39m60000\u001b[39m)\n\u001b[1;32m     18\u001b[0m     \u001b[39mself\u001b[39m\u001b[39m.\u001b[39mtestingImages \u001b[39m=\u001b[39m \u001b[39mself\u001b[39m\u001b[39m.\u001b[39m_getImageData(testingSetImagesPath, \u001b[39m10000\u001b[39m)\n",
      "File \u001b[0;32m~/Projects/Epitech/ai-big-data-bootstrap-zoidberg/src/MNISTManager.py:23\u001b[0m, in \u001b[0;36mMNISTManager._getImageData\u001b[0;34m(self, path, size)\u001b[0m\n\u001b[1;32m     22\u001b[0m \u001b[39mdef\u001b[39;00m \u001b[39m_getImageData\u001b[39m(\u001b[39mself\u001b[39m, path, size):\n\u001b[0;32m---> 23\u001b[0m     fileBuffer \u001b[39m=\u001b[39m gzip\u001b[39m.\u001b[39;49mopen(path,\u001b[39m'\u001b[39;49m\u001b[39mr\u001b[39;49m\u001b[39m'\u001b[39;49m)\n\u001b[1;32m     24\u001b[0m     fileBuffer\u001b[39m.\u001b[39mread(\u001b[39m16\u001b[39m)\n\u001b[1;32m     25\u001b[0m     images \u001b[39m=\u001b[39m np\u001b[39m.\u001b[39mfrombuffer(fileBuffer\u001b[39m.\u001b[39mread(\u001b[39m28\u001b[39m \u001b[39m*\u001b[39m \u001b[39m28\u001b[39m \u001b[39m*\u001b[39m size), dtype\u001b[39m=\u001b[39mnp\u001b[39m.\u001b[39muint8)\u001b[39m.\u001b[39mastype(np\u001b[39m.\u001b[39mfloat32) \u001b[39m#60000 images of 28*28 pixels\u001b[39;00m\n",
      "File \u001b[0;32m/usr/lib/python3.10/gzip.py:58\u001b[0m, in \u001b[0;36mopen\u001b[0;34m(filename, mode, compresslevel, encoding, errors, newline)\u001b[0m\n\u001b[1;32m     56\u001b[0m gz_mode \u001b[39m=\u001b[39m mode\u001b[39m.\u001b[39mreplace(\u001b[39m\"\u001b[39m\u001b[39mt\u001b[39m\u001b[39m\"\u001b[39m, \u001b[39m\"\u001b[39m\u001b[39m\"\u001b[39m)\n\u001b[1;32m     57\u001b[0m \u001b[39mif\u001b[39;00m \u001b[39misinstance\u001b[39m(filename, (\u001b[39mstr\u001b[39m, \u001b[39mbytes\u001b[39m, os\u001b[39m.\u001b[39mPathLike)):\n\u001b[0;32m---> 58\u001b[0m     binary_file \u001b[39m=\u001b[39m GzipFile(filename, gz_mode, compresslevel)\n\u001b[1;32m     59\u001b[0m \u001b[39melif\u001b[39;00m \u001b[39mhasattr\u001b[39m(filename, \u001b[39m\"\u001b[39m\u001b[39mread\u001b[39m\u001b[39m\"\u001b[39m) \u001b[39mor\u001b[39;00m \u001b[39mhasattr\u001b[39m(filename, \u001b[39m\"\u001b[39m\u001b[39mwrite\u001b[39m\u001b[39m\"\u001b[39m):\n\u001b[1;32m     60\u001b[0m     binary_file \u001b[39m=\u001b[39m GzipFile(\u001b[39mNone\u001b[39;00m, gz_mode, compresslevel, filename)\n",
      "File \u001b[0;32m/usr/lib/python3.10/gzip.py:174\u001b[0m, in \u001b[0;36mGzipFile.__init__\u001b[0;34m(self, filename, mode, compresslevel, fileobj, mtime)\u001b[0m\n\u001b[1;32m    172\u001b[0m     mode \u001b[39m+\u001b[39m\u001b[39m=\u001b[39m \u001b[39m'\u001b[39m\u001b[39mb\u001b[39m\u001b[39m'\u001b[39m\n\u001b[1;32m    173\u001b[0m \u001b[39mif\u001b[39;00m fileobj \u001b[39mis\u001b[39;00m \u001b[39mNone\u001b[39;00m:\n\u001b[0;32m--> 174\u001b[0m     fileobj \u001b[39m=\u001b[39m \u001b[39mself\u001b[39m\u001b[39m.\u001b[39mmyfileobj \u001b[39m=\u001b[39m builtins\u001b[39m.\u001b[39;49mopen(filename, mode \u001b[39mor\u001b[39;49;00m \u001b[39m'\u001b[39;49m\u001b[39mrb\u001b[39;49m\u001b[39m'\u001b[39;49m)\n\u001b[1;32m    175\u001b[0m \u001b[39mif\u001b[39;00m filename \u001b[39mis\u001b[39;00m \u001b[39mNone\u001b[39;00m:\n\u001b[1;32m    176\u001b[0m     filename \u001b[39m=\u001b[39m \u001b[39mgetattr\u001b[39m(fileobj, \u001b[39m'\u001b[39m\u001b[39mname\u001b[39m\u001b[39m'\u001b[39m, \u001b[39m'\u001b[39m\u001b[39m'\u001b[39m)\n",
      "\u001b[0;31mIsADirectoryError\u001b[0m: [Errno 21] Is a directory: '../datasets'"
     ]
    }
   ],
   "source": [
    "matrices = MNISTManager(\n",
    "    os.path.dirname(\"../datasets/train-images-idx3-ubyte.gz\"),\n",
    "    os.path.dirname(\"/../datasets/train-labels-idx1-ubyte.gz\"),\n",
    "    os.path.dirname(\"/../datasets/t10k-images-idx3-ubyte.gz\"),\n",
    "    os.path.dirname(\"/../datasets/t10k-labels-idx1-ubyte.gz\"),\n",
    ").getMatrices()\n",
    "print(matrices)"
   ]
  },
  {
   "cell_type": "markdown",
   "id": "8fd8f959",
   "metadata": {},
   "source": [
    "> _Define utilitaries functions_"
   ]
  },
  {
   "cell_type": "code",
   "execution_count": 19,
   "id": "646116d5",
   "metadata": {},
   "outputs": [],
   "source": [
    "print(matrices)\n",
    "def getEuclidianDistance(x, y): return np.sqrt(np.sum(x - y)**2) #get the euclidian distance between 2 matrices\n",
    "\n",
    "def getKNearestNeighbors(k, sortedDistances): #given a value of k and a sorteed distances list, returns the k neirest neighbors in an new list\n",
    "    kDistances = sortedDistances[:k]\n",
    "    return [x[1] for x in kDistances]\n",
    "\n",
    "def getAccuraryPercentage(labels): #get the acccuracy of the given labels list clompared to the training labels\n",
    "    accuracy = 0;\n",
    "    for i in range(len(labels)):\n",
    "        if matrices['trainingLabels'][i] == labels[i]:\n",
    "            accuracy += 1\n",
    "    return (accuracy / len(labels) * 100)"
   ]
  },
  {
   "cell_type": "markdown",
   "id": "9ece9178",
   "metadata": {},
   "source": [
    ">_KNN algorithm to get the best value of K_"
   ]
  },
  {
   "cell_type": "code",
   "execution_count": 20,
   "id": "0d0de013",
   "metadata": {},
   "outputs": [
    {
     "ename": "NameError",
     "evalue": "name 'matrices' is not defined",
     "output_type": "error",
     "traceback": [
      "\u001b[0;31m---------------------------------------------------------------------------\u001b[0m",
      "\u001b[0;31mNameError\u001b[0m                                 Traceback (most recent call last)",
      "Cell \u001b[0;32mIn [20], line 6\u001b[0m\n\u001b[1;32m      4\u001b[0m \u001b[39mfor\u001b[39;00m kIndex \u001b[39min\u001b[39;00m \u001b[39mrange\u001b[39m(\u001b[39mlen\u001b[39m(kValues)):\n\u001b[1;32m      5\u001b[0m     correspondingLabels \u001b[39m=\u001b[39m [] \u001b[39m# for each image, we store is found label\u001b[39;00m\n\u001b[0;32m----> 6\u001b[0m     \u001b[39mfor\u001b[39;00m i \u001b[39min\u001b[39;00m \u001b[39mrange\u001b[39m(\u001b[39mlen\u001b[39m(matrices[\u001b[39m'\u001b[39m\u001b[39mtrainingImages\u001b[39m\u001b[39m'\u001b[39m][:batchSize])):\n\u001b[1;32m      7\u001b[0m         \u001b[39mprint\u001b[39m(\u001b[39mf\u001b[39m\u001b[39m\"\u001b[39m\u001b[39m\\t\u001b[39;00m\u001b[39m{\u001b[39;00m \u001b[39mround\u001b[39m(   ((kIndex \u001b[39m/\u001b[39m \u001b[39mlen\u001b[39m(kValues) \u001b[39m*\u001b[39m \u001b[39m100\u001b[39m) \u001b[39m+\u001b[39m ( (i \u001b[39m/\u001b[39m batchSize) ) \u001b[39m/\u001b[39m \u001b[39mlen\u001b[39m(kValues) \u001b[39m*\u001b[39m \u001b[39m100\u001b[39m ), \u001b[39m5\u001b[39m   ) \u001b[39m}\u001b[39;00m\u001b[39m%\u001b[39m\u001b[39m\"\u001b[39m, end\u001b[39m=\u001b[39m\u001b[39m'\u001b[39m\u001b[39m\\r\u001b[39;00m\u001b[39m'\u001b[39m)\n\u001b[1;32m      8\u001b[0m         sys\u001b[39m.\u001b[39mstdout\u001b[39m.\u001b[39mflush()\n",
      "\u001b[0;31mNameError\u001b[0m: name 'matrices' is not defined"
     ]
    }
   ],
   "source": [
    "kValues = [(3, 0),(5, 0), (7, 0), (9, 0)]  #[(kNeigbors, accuracyPercentage)]\n",
    "batchSize = 600\n",
    "\n",
    "print(matrices)\n",
    "\n",
    "for kIndex in range(len(kValues)):\n",
    "    correspondingLabels = [] # for each image, we store is found label\n",
    "    for i in range(len(matrices['trainingImages'][:batchSize])):\n",
    "        print(f\"\\t{ round(   ((kIndex / len(kValues) * 100) + ( (i / batchSize) ) / len(kValues) * 100 ), 5   ) }%\", end='\\r')\n",
    "        sys.stdout.flush()\n",
    "        distances = []\n",
    "        for j in range(len(matrices['trainingImages'][:batchSize])):\n",
    "            distances.append( ( getEuclidianDistance(matrices['trainingImages'][i], matrices['trainingImages'][j]), matrices['trainingLabels'][j]) )\n",
    "        distances.sort(key = lambda x : x[0])\n",
    "        kNearestNeighbors = getKNearestNeighbors(kValues[kIndex][0], distances)\n",
    "        correspondingLabels.append( max( kNearestNeighbors, key=kNearestNeighbors.count ) ) #for each image, we add the most propable neigbor for the current value of k\n",
    "    kValues[kIndex] = (kValues[kIndex][0], getAccuraryPercentage(correspondingLabels))\n"
   ]
  },
  {
   "cell_type": "code",
   "execution_count": null,
   "id": "345e4f67",
   "metadata": {},
   "outputs": [],
   "source": []
  }
 ],
 "metadata": {
  "kernelspec": {
   "display_name": "Python 3 (ipykernel)",
   "language": "python",
   "name": "python3"
  },
  "language_info": {
   "codemirror_mode": {
    "name": "ipython",
    "version": 3
   },
   "file_extension": ".py",
   "mimetype": "text/x-python",
   "name": "python",
   "nbconvert_exporter": "python",
   "pygments_lexer": "ipython3",
   "version": "3.10.6"
  },
  "vscode": {
   "interpreter": {
    "hash": "916dbcbb3f70747c44a77c7bcd40155683ae19c65e1c03b4aa3499c5328201f1"
   }
  }
 },
 "nbformat": 4,
 "nbformat_minor": 5
}
