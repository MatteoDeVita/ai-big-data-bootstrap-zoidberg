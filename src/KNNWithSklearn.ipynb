{
 "cells": [
  {
   "cell_type": "code",
   "execution_count": 1,
   "metadata": {},
   "outputs": [],
   "source": [
    "import struct\n",
    "import numpy as np\n",
    "from sklearn import neighbors, metrics\n",
    "import matplotlib.pyplot as plt\n",
    "import os\n",
    "%matplotlib inline"
   ]
  },
  {
   "cell_type": "code",
   "execution_count": 21,
   "metadata": {},
   "outputs": [],
   "source": [
    "def readIdx(filename):\n",
    "    with open(filename, 'rb') as f:\n",
    "        zero, dataType, dims = struct.unpack('>HBB', f.read(4))\n",
    "        shape = tuple(struct.unpack('>I', f.read(4))[0] for d in range(dims))\n",
    "        return np.frombuffer(f.read(), dtype=np.uint8).reshape(shape)"
   ]
  },
  {
   "cell_type": "code",
   "execution_count": 22,
   "metadata": {},
   "outputs": [],
   "source": [
    "rawTrain = readIdx(os.path.abspath('') + \"/../datasets/train-images.idx3-ubyte\")\n",
    "trainData = np.reshape(rawTrain, (60000, 28*28))\n",
    "trainLabel = readIdx(os.path.abspath('') + \"/../datasets/train-labels.idx1-ubyte\")\n",
    "\n",
    "rawTest = readIdx(os.path.abspath('') + \"/../datasets/t10k-images.idx3-ubyte\")\n",
    "testData = np.reshape(rawTest, (10000, 28*28))\n",
    "testLabel = readIdx(os.path.abspath('') + \"/../datasets/t10k-labels.idx1-ubyte\")"
   ]
  },
  {
   "cell_type": "code",
   "execution_count": 24,
   "metadata": {},
   "outputs": [],
   "source": [
    "idx = (trainLabel == 2) | (trainLabel == 3) | (trainLabel ==8)\n",
    "X = trainData[idx]\n",
    "Y = trainLabel[idx]\n",
    "\n",
    "knn = neighbors.KNeighborsClassifier(n_neighbors=3).fit(X, Y)\n"
   ]
  },
  {
   "cell_type": "code",
   "execution_count": 27,
   "metadata": {},
   "outputs": [],
   "source": [
    "idx = (testLabel == 2) | (testLabel == 3) | (testLabel == 8)\n",
    "xTest = testData[idx]\n",
    "yTrue = testLabel[idx]\n",
    "yPred = knn.predict(xTest)"
   ]
  },
  {
   "cell_type": "code",
   "execution_count": 38,
   "metadata": {},
   "outputs": [],
   "source": [
    "import itertools\n",
    "\n",
    "def plotConfusionMatrix(cm, classes,\n",
    "                        normalize=False,\n",
    "                        title=\"Confusiob Matrix\",\n",
    "                        cmap=plt.cm.Blues,\n",
    "                        ):\n",
    "    if normalize:\n",
    "        cm = cm.astype('float') / cm.sum(axis=1)[:, np.newaxis]\n",
    "        print(\"Normallized confusion matrix\")\n",
    "    else:\n",
    "        print(\"Confusion matrix, without normalization\")    \n",
    "    print(cm)\n",
    "\n",
    "    plt.imshow(cm, interpolation='nearest', cmap=cmap)\n",
    "    plt.title(title)\n",
    "    plt.colorbar()\n",
    "    tickMarks = np.arange(len(classes))\n",
    "    plt.xticks(tickMarks, classes, rotation=45)\n",
    "    plt.yticks(tickMarks, classes)\n",
    "\n",
    "    fmt = '.2f' if normalize else 'd'\n",
    "    thresh = cm.max() / 2.\n",
    "    for i, j in itertools.product(range(cm.shape[0]), range(cm.shape[1])):\n",
    "        plt.text(j, i, format(cm[i, j], fmt),\n",
    "        horizontalalignment=\"center\",\n",
    "        color='white' if cm[i, j] > thresh else \"black\")\n",
    "    \n",
    "    plt.tight_layout()\n",
    "    plt.ylabel('True label')\n",
    "    plt.xlabel('Predicted label')"
   ]
  },
  {
   "cell_type": "code",
   "execution_count": 39,
   "metadata": {},
   "outputs": [
    {
     "name": "stdout",
     "output_type": "stream",
     "text": [
      "Confusion matrix, without normalization\n",
      "[[1025    3    4]\n",
      " [   5 1001    4]\n",
      " [   6   16  952]]\n"
     ]
    },
    {
     "data": {
      "image/png": "[encoded data removed]",
      "text/plain": [
       "<Figure size 640x480 with 2 Axes>"
      ]
     },
     "metadata": {},
     "output_type": "display_data"
    }
   ],
   "source": [
    "cm = metrics.confusion_matrix(yTrue, yPred)\n",
    "plotConfusionMatrix(cm, [\"2\", \"3\", \"8\"])"
   ]
  },
  {
   "cell_type": "code",
   "execution_count": null,
   "metadata": {},
   "outputs": [],
   "source": []
  }
 ],
 "metadata": {
  "kernelspec": {
   "display_name": "Python 3.10.6 64-bit",
   "language": "python",
   "name": "python3"
  },
  "language_info": {
   "codemirror_mode": {
    "name": "ipython",
    "version": 3
   },
   "file_extension": ".py",
   "mimetype": "text/x-python",
   "name": "python",
   "nbconvert_exporter": "python",
   "pygments_lexer": "ipython3",
   "version": "3.10.6"
  },
  "orig_nbformat": 4,
  "vscode": {
   "interpreter": {
    "hash": "916dbcbb3f70747c44a77c7bcd40155683ae19c65e1c03b4aa3499c5328201f1"
   }
  }
 },
 "nbformat": 4,
 "nbformat_minor": 2
}
